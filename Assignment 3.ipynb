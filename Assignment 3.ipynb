{
 "cells": [
  {
   "cell_type": "markdown",
   "metadata": {},
   "source": [
    "---\n",
    "\n",
    "_You are currently looking at **version 1.5** of this notebook. To download notebooks and datafiles, as well as get help on Jupyter notebooks in the Coursera platform, visit the [Jupyter Notebook FAQ](https://www.coursera.org/learn/python-data-analysis/resources/0dhYG) course resource._\n",
    "\n",
    "---"
   ]
  },
  {
   "cell_type": "markdown",
   "metadata": {},
   "source": [
    "# Assignment 3 - More Pandas\n",
    "This assignment requires more individual learning then the last one did - you are encouraged to check out the [pandas documentation](http://pandas.pydata.org/pandas-docs/stable/) to find functions or methods you might not have used yet, or ask questions on [Stack Overflow](http://stackoverflow.com/) and tag them as pandas and python related. And of course, the discussion forums are open for interaction with your peers and the course staff."
   ]
  },
  {
   "cell_type": "markdown",
   "metadata": {},
   "source": [
    "### Question 1 (20%)\n",
    "Load the energy data from the file `Energy Indicators.xls`, which is a list of indicators of [energy supply and renewable electricity production](Energy%20Indicators.xls) from the [United Nations](http://unstats.un.org/unsd/environment/excel_file_tables/2013/Energy%20Indicators.xls) for the year 2013, and should be put into a DataFrame with the variable name of **energy**.\n",
    "\n",
    "Keep in mind that this is an Excel file, and not a comma separated values file. Also, make sure to exclude the footer and header information from the datafile. The first two columns are unneccessary, so you should get rid of them, and you should change the column labels so that the columns are:\n",
    "\n",
    "`['Country', 'Energy Supply', 'Energy Supply per Capita', '% Renewable']`\n",
    "\n",
    "Convert `Energy Supply` to gigajoules (there are 1,000,000 gigajoules in a petajoule). For all countries which have missing data (e.g. data with \"...\") make sure this is reflected as `np.NaN` values.\n",
    "\n",
    "Rename the following list of countries (for use in later questions):\n",
    "\n",
    "```\"Republic of Korea\": \"South Korea\",\n",
    "\"United States of America\": \"United States\",\n",
    "\"United Kingdom of Great Britain and Northern Ireland\": \"United Kingdom\",\n",
    "\"China, Hong Kong Special Administrative Region\": \"Hong Kong\"```\n",
    "\n",
    "There are also several countries with numbers and/or parenthesis in their name. Be sure to remove these, \n",
    "\n",
    "e.g. \n",
    "\n",
    "`'Bolivia (Plurinational State of)'` should be `'Bolivia'`, \n",
    "\n",
    "`'Switzerland17'` should be `'Switzerland'`.\n",
    "\n",
    "<br>\n",
    "\n",
    "Next, load the GDP data from the file `world_bank.csv`, which is a csv containing countries' GDP from 1960 to 2015 from [World Bank](http://data.worldbank.org/indicator/NY.GDP.MKTP.CD). Call this DataFrame **GDP**. \n",
    "\n",
    "Make sure to skip the header, and rename the following list of countries:\n",
    "\n",
    "```\"Korea, Rep.\": \"South Korea\", \n",
    "\"Iran, Islamic Rep.\": \"Iran\",\n",
    "\"Hong Kong SAR, China\": \"Hong Kong\"```\n",
    "\n",
    "<br>\n",
    "\n",
    "Finally, load the [Sciamgo Journal and Country Rank data for Energy Engineering and Power Technology](http://www.scimagojr.com/countryrank.php?category=2102) from the file `scimagojr-3.xlsx`, which ranks countries based on their journal contributions in the aforementioned area. Call this DataFrame **ScimEn**.\n",
    "\n",
    "Join the three datasets: GDP, Energy, and ScimEn into a new dataset (using the intersection of country names). Use only the last 10 years (2006-2015) of GDP data and only the top 15 countries by Scimagojr 'Rank' (Rank 1 through 15). \n",
    "\n",
    "The index of this DataFrame should be the name of the country, and the columns should be ['Rank', 'Documents', 'Citable documents', 'Citations', 'Self-citations',\n",
    "       'Citations per document', 'H index', 'Energy Supply',\n",
    "       'Energy Supply per Capita', '% Renewable', '2006', '2007', '2008',\n",
    "       '2009', '2010', '2011', '2012', '2013', '2014', '2015'].\n",
    "\n",
    "*This function should return a DataFrame with 20 columns and 15 entries.*"
   ]
  },
  {
   "cell_type": "code",
   "execution_count": 16,
   "metadata": {
    "umich_part_id": "009",
    "umich_partlist_id": "003"
   },
   "outputs": [
    {
     "name": "stdout",
     "output_type": "stream",
     "text": [
      "                                          Country Name Country Code  \\\n",
      "0                                                Aruba          ABW   \n",
      "1                                              Andorra          AND   \n",
      "2                                          Afghanistan          AFG   \n",
      "3                                               Angola          AGO   \n",
      "4                                              Albania          ALB   \n",
      "5                                           Arab World          ARB   \n",
      "6                                 United Arab Emirates          ARE   \n",
      "7                                            Argentina          ARG   \n",
      "8                                              Armenia          ARM   \n",
      "9                                       American Samoa          ASM   \n",
      "10                                 Antigua and Barbuda          ATG   \n",
      "11                                           Australia          AUS   \n",
      "12                                             Austria          AUT   \n",
      "13                                          Azerbaijan          AZE   \n",
      "14                                             Burundi          BDI   \n",
      "15                                             Belgium          BEL   \n",
      "16                                               Benin          BEN   \n",
      "17                                        Burkina Faso          BFA   \n",
      "18                                          Bangladesh          BGD   \n",
      "19                                            Bulgaria          BGR   \n",
      "20                                             Bahrain          BHR   \n",
      "21                                        Bahamas, The          BHS   \n",
      "22                              Bosnia and Herzegovina          BIH   \n",
      "23                                             Belarus          BLR   \n",
      "24                                              Belize          BLZ   \n",
      "25                                             Bermuda          BMU   \n",
      "26                                             Bolivia          BOL   \n",
      "27                                              Brazil          BRA   \n",
      "28                                            Barbados          BRB   \n",
      "29                                   Brunei Darussalam          BRN   \n",
      "..                                                 ...          ...   \n",
      "234  Middle East & North Africa (IDA & IBRD countries)          TMN   \n",
      "235                                        Timor-Leste          TLS   \n",
      "236                                              Tonga          TON   \n",
      "237                            South Asia (IDA & IBRD)          TSA   \n",
      "238          Sub-Saharan Africa (IDA & IBRD countries)          TSS   \n",
      "239                                Trinidad and Tobago          TTO   \n",
      "240                                            Tunisia          TUN   \n",
      "241                                             Turkey          TUR   \n",
      "242                                             Tuvalu          TUV   \n",
      "243                                           Tanzania          TZA   \n",
      "244                                             Uganda          UGA   \n",
      "245                                            Ukraine          UKR   \n",
      "246                                Upper middle income          UMC   \n",
      "247                                            Uruguay          URY   \n",
      "248                                      United States          USA   \n",
      "249                                         Uzbekistan          UZB   \n",
      "250                     St. Vincent and the Grenadines          VCT   \n",
      "251                                      Venezuela, RB          VEN   \n",
      "252                             British Virgin Islands          VGB   \n",
      "253                              Virgin Islands (U.S.)          VIR   \n",
      "254                                            Vietnam          VNM   \n",
      "255                                            Vanuatu          VUT   \n",
      "256                                 West Bank and Gaza          PSE   \n",
      "257                                              World          WLD   \n",
      "258                                              Samoa          WSM   \n",
      "259                                        Yemen, Rep.          YEM   \n",
      "260                                       South Africa          ZAF   \n",
      "261                                   Congo, Dem. Rep.          COD   \n",
      "262                                             Zambia          ZMB   \n",
      "263                                           Zimbabwe          ZWE   \n",
      "\n",
      "                               Indicator Name  Indicator Code          1960  \\\n",
      "0    GDP at market prices (constant 2010 US$)  NY.GDP.MKTP.KD           NaN   \n",
      "1    GDP at market prices (constant 2010 US$)  NY.GDP.MKTP.KD           NaN   \n",
      "2    GDP at market prices (constant 2010 US$)  NY.GDP.MKTP.KD           NaN   \n",
      "3    GDP at market prices (constant 2010 US$)  NY.GDP.MKTP.KD           NaN   \n",
      "4    GDP at market prices (constant 2010 US$)  NY.GDP.MKTP.KD           NaN   \n",
      "5    GDP at market prices (constant 2010 US$)  NY.GDP.MKTP.KD           NaN   \n",
      "6    GDP at market prices (constant 2010 US$)  NY.GDP.MKTP.KD           NaN   \n",
      "7    GDP at market prices (constant 2010 US$)  NY.GDP.MKTP.KD  1.206739e+11   \n",
      "8    GDP at market prices (constant 2010 US$)  NY.GDP.MKTP.KD           NaN   \n",
      "9    GDP at market prices (constant 2010 US$)  NY.GDP.MKTP.KD           NaN   \n",
      "10   GDP at market prices (constant 2010 US$)  NY.GDP.MKTP.KD           NaN   \n",
      "11   GDP at market prices (constant 2010 US$)  NY.GDP.MKTP.KD  1.983395e+11   \n",
      "12   GDP at market prices (constant 2010 US$)  NY.GDP.MKTP.KD  9.223779e+10   \n",
      "13   GDP at market prices (constant 2010 US$)  NY.GDP.MKTP.KD           NaN   \n",
      "14   GDP at market prices (constant 2010 US$)  NY.GDP.MKTP.KD  5.966083e+08   \n",
      "15   GDP at market prices (constant 2010 US$)  NY.GDP.MKTP.KD  1.205638e+11   \n",
      "16   GDP at market prices (constant 2010 US$)  NY.GDP.MKTP.KD  1.265426e+09   \n",
      "17   GDP at market prices (constant 2010 US$)  NY.GDP.MKTP.KD  1.120812e+09   \n",
      "18   GDP at market prices (constant 2010 US$)  NY.GDP.MKTP.KD  1.786255e+10   \n",
      "19   GDP at market prices (constant 2010 US$)  NY.GDP.MKTP.KD           NaN   \n",
      "20   GDP at market prices (constant 2010 US$)  NY.GDP.MKTP.KD           NaN   \n",
      "21   GDP at market prices (constant 2010 US$)  NY.GDP.MKTP.KD  1.521892e+09   \n",
      "22   GDP at market prices (constant 2010 US$)  NY.GDP.MKTP.KD           NaN   \n",
      "23   GDP at market prices (constant 2010 US$)  NY.GDP.MKTP.KD           NaN   \n",
      "24   GDP at market prices (constant 2010 US$)  NY.GDP.MKTP.KD  9.865406e+07   \n",
      "25   GDP at market prices (constant 2010 US$)  NY.GDP.MKTP.KD  1.236025e+09   \n",
      "26   GDP at market prices (constant 2010 US$)  NY.GDP.MKTP.KD  4.818838e+09   \n",
      "27   GDP at market prices (constant 2010 US$)  NY.GDP.MKTP.KD  2.466572e+11   \n",
      "28   GDP at market prices (constant 2010 US$)  NY.GDP.MKTP.KD           NaN   \n",
      "29   GDP at market prices (constant 2010 US$)  NY.GDP.MKTP.KD           NaN   \n",
      "..                                        ...             ...           ...   \n",
      "234  GDP at market prices (constant 2010 US$)  NY.GDP.MKTP.KD           NaN   \n",
      "235  GDP at market prices (constant 2010 US$)  NY.GDP.MKTP.KD           NaN   \n",
      "236  GDP at market prices (constant 2010 US$)  NY.GDP.MKTP.KD           NaN   \n",
      "237  GDP at market prices (constant 2010 US$)  NY.GDP.MKTP.KD  1.840484e+11   \n",
      "238  GDP at market prices (constant 2010 US$)  NY.GDP.MKTP.KD  2.448081e+11   \n",
      "239  GDP at market prices (constant 2010 US$)  NY.GDP.MKTP.KD  4.198187e+09   \n",
      "240  GDP at market prices (constant 2010 US$)  NY.GDP.MKTP.KD           NaN   \n",
      "241  GDP at market prices (constant 2010 US$)  NY.GDP.MKTP.KD  8.362456e+10   \n",
      "242  GDP at market prices (constant 2010 US$)  NY.GDP.MKTP.KD           NaN   \n",
      "243  GDP at market prices (constant 2010 US$)  NY.GDP.MKTP.KD           NaN   \n",
      "244  GDP at market prices (constant 2010 US$)  NY.GDP.MKTP.KD           NaN   \n",
      "245  GDP at market prices (constant 2010 US$)  NY.GDP.MKTP.KD           NaN   \n",
      "246  GDP at market prices (constant 2010 US$)  NY.GDP.MKTP.KD  1.456839e+12   \n",
      "247  GDP at market prices (constant 2010 US$)  NY.GDP.MKTP.KD  1.389822e+10   \n",
      "248  GDP at market prices (constant 2010 US$)  NY.GDP.MKTP.KD  3.078071e+12   \n",
      "249  GDP at market prices (constant 2010 US$)  NY.GDP.MKTP.KD           NaN   \n",
      "250  GDP at market prices (constant 2010 US$)  NY.GDP.MKTP.KD  1.418778e+08   \n",
      "251  GDP at market prices (constant 2010 US$)  NY.GDP.MKTP.KD  1.015817e+11   \n",
      "252  GDP at market prices (constant 2010 US$)  NY.GDP.MKTP.KD           NaN   \n",
      "253  GDP at market prices (constant 2010 US$)  NY.GDP.MKTP.KD           NaN   \n",
      "254  GDP at market prices (constant 2010 US$)  NY.GDP.MKTP.KD           NaN   \n",
      "255  GDP at market prices (constant 2010 US$)  NY.GDP.MKTP.KD           NaN   \n",
      "256  GDP at market prices (constant 2010 US$)  NY.GDP.MKTP.KD           NaN   \n",
      "257  GDP at market prices (constant 2010 US$)  NY.GDP.MKTP.KD  1.118678e+13   \n",
      "258  GDP at market prices (constant 2010 US$)  NY.GDP.MKTP.KD           NaN   \n",
      "259  GDP at market prices (constant 2010 US$)  NY.GDP.MKTP.KD           NaN   \n",
      "260  GDP at market prices (constant 2010 US$)  NY.GDP.MKTP.KD  7.707081e+10   \n",
      "261  GDP at market prices (constant 2010 US$)  NY.GDP.MKTP.KD  1.508024e+10   \n",
      "262  GDP at market prices (constant 2010 US$)  NY.GDP.MKTP.KD  4.592975e+09   \n",
      "263  GDP at market prices (constant 2010 US$)  NY.GDP.MKTP.KD  3.338344e+09   \n",
      "\n",
      "             1961          1962          1963          1964          1965  \\\n",
      "0             NaN           NaN           NaN           NaN           NaN   \n",
      "1             NaN           NaN           NaN           NaN           NaN   \n",
      "2             NaN           NaN           NaN           NaN           NaN   \n",
      "3             NaN           NaN           NaN           NaN           NaN   \n",
      "4             NaN           NaN           NaN           NaN           NaN   \n",
      "5             NaN           NaN           NaN           NaN           NaN   \n",
      "6             NaN           NaN           NaN           NaN           NaN   \n",
      "7    1.272239e+11  1.261399e+11  1.194442e+11  1.315442e+11  1.454477e+11   \n",
      "8             NaN           NaN           NaN           NaN           NaN   \n",
      "9             NaN           NaN           NaN           NaN           NaN   \n",
      "10            NaN           NaN           NaN           NaN           NaN   \n",
      "11   2.032502e+11  2.059485e+11  2.187430e+11  2.340028e+11  2.479962e+11   \n",
      "12   9.734590e+10  9.992428e+10  1.040594e+11  1.104324e+11  1.142756e+11   \n",
      "13            NaN           NaN           NaN           NaN           NaN   \n",
      "14   5.145977e+08  5.612365e+08  5.844459e+08  6.211084e+08  6.457492e+08   \n",
      "15   1.265660e+11  1.331626e+11  1.389573e+11  1.486241e+11  1.539161e+11   \n",
      "16   1.305177e+09  1.260456e+09  1.320076e+09  1.407871e+09  1.482402e+09   \n",
      "17   1.166137e+09  1.237607e+09  1.221914e+09  1.249808e+09  1.296857e+09   \n",
      "18   1.894469e+10  1.997775e+10  1.988667e+10  2.206481e+10  2.241923e+10   \n",
      "19            NaN           NaN           NaN           NaN           NaN   \n",
      "20            NaN           NaN           NaN           NaN           NaN   \n",
      "21   1.684234e+09  1.860270e+09  2.056046e+09  2.271963e+09  2.508828e+09   \n",
      "22            NaN           NaN           NaN           NaN           NaN   \n",
      "23            NaN           NaN           NaN           NaN           NaN   \n",
      "24   1.034805e+08  1.085434e+08  1.139233e+08  1.196193e+08  1.255172e+08   \n",
      "25   1.293871e+09  1.351707e+09  1.366170e+09  1.517951e+09  1.590206e+09   \n",
      "26   4.919069e+09  5.193073e+09  5.526504e+09  5.791476e+09  6.117247e+09   \n",
      "27   2.720034e+11  2.861913e+11  2.886945e+11  2.987572e+11  3.078797e+11   \n",
      "28            NaN           NaN           NaN           NaN           NaN   \n",
      "29            NaN           NaN           NaN           NaN           NaN   \n",
      "..            ...           ...           ...           ...           ...   \n",
      "234           NaN           NaN           NaN           NaN  1.995513e+11   \n",
      "235           NaN           NaN           NaN           NaN           NaN   \n",
      "236           NaN           NaN           NaN           NaN           NaN   \n",
      "237  1.916061e+11  1.979559e+11  2.086032e+11  2.246484e+11  2.223897e+11   \n",
      "238  2.484306e+11  2.629561e+11  2.795305e+11  2.945791e+11  3.123708e+11   \n",
      "239  4.787490e+09  4.918785e+09  5.194463e+09  5.590826e+09  5.629618e+09   \n",
      "240           NaN           NaN           NaN           NaN  5.059839e+09   \n",
      "241  8.459132e+10  8.930427e+10  9.740087e+10  1.027180e+11  1.056183e+11   \n",
      "242           NaN           NaN           NaN           NaN           NaN   \n",
      "243           NaN           NaN           NaN           NaN           NaN   \n",
      "244           NaN           NaN           NaN           NaN           NaN   \n",
      "245           NaN           NaN           NaN           NaN           NaN   \n",
      "246  1.477022e+12  1.541565e+12  1.631063e+12  1.764693e+12  1.884705e+12   \n",
      "247  1.424471e+10  1.402042e+10  1.404432e+10  1.438707e+10  1.453751e+10   \n",
      "248  3.148867e+12  3.340948e+12  3.487949e+12  3.690250e+12  3.926426e+12   \n",
      "249           NaN           NaN           NaN           NaN           NaN   \n",
      "250  1.483010e+08  1.537796e+08  1.441448e+08  1.494345e+08  1.507569e+08   \n",
      "251  1.048247e+11  1.137694e+11  1.182074e+11  1.313632e+11  1.368316e+11   \n",
      "252           NaN           NaN           NaN           NaN           NaN   \n",
      "253           NaN           NaN           NaN           NaN           NaN   \n",
      "254           NaN           NaN           NaN           NaN           NaN   \n",
      "255           NaN           NaN           NaN           NaN           NaN   \n",
      "256           NaN           NaN           NaN           NaN           NaN   \n",
      "257  1.166806e+13  1.231357e+13  1.295118e+13  1.381212e+13  1.458038e+13   \n",
      "258           NaN           NaN           NaN           NaN           NaN   \n",
      "259           NaN           NaN           NaN           NaN           NaN   \n",
      "260  8.003449e+10  8.497844e+10  9.124438e+10  9.848904e+10  1.072507e+11   \n",
      "261  1.344383e+10  1.629401e+10  1.714358e+10  1.672524e+10  1.689205e+10   \n",
      "262  4.655503e+09  4.539542e+09  4.688093e+09  5.260699e+09  6.136472e+09   \n",
      "263  3.549199e+09  3.600111e+09  3.824915e+09  3.782605e+09  3.968352e+09   \n",
      "\n",
      "         ...               2006          2007          2008          2009  \\\n",
      "0        ...                NaN           NaN           NaN           NaN   \n",
      "1        ...       4.018196e+09  4.021331e+09  3.675728e+09  3.535389e+09   \n",
      "2        ...       1.030523e+10  1.172119e+10  1.214448e+10  1.469733e+10   \n",
      "3        ...       5.581103e+10  6.842044e+10  7.787420e+10  7.975320e+10   \n",
      "4        ...       9.771760e+09  1.034829e+10  1.112752e+10  1.150029e+10   \n",
      "5        ...       1.763824e+12  1.863481e+12  1.980983e+12  2.011001e+12   \n",
      "6        ...       2.789489e+11  2.878318e+11  2.970189e+11  2.814464e+11   \n",
      "7        ...       3.788140e+11  4.089887e+11  4.215649e+11  4.217758e+11   \n",
      "8        ...       8.679746e+09  9.873142e+09  1.055439e+10  9.060944e+09   \n",
      "9        ...                NaN           NaN           NaN           NaN   \n",
      "10       ...       1.268714e+09  1.389229e+09  1.390217e+09  1.222890e+09   \n",
      "11       ...       1.021939e+12  1.060340e+12  1.099644e+12  1.119654e+12   \n",
      "12       ...       3.782096e+11  3.919065e+11  3.979703e+11  3.828512e+11   \n",
      "13       ...       3.329047e+10  4.162940e+10  4.611390e+10  5.045352e+10   \n",
      "14       ...       1.714698e+09  1.796761e+09  1.887463e+09  1.952928e+09   \n",
      "15       ...       4.626081e+11  4.783251e+11  4.818987e+11  4.708879e+11   \n",
      "16       ...       6.000596e+09  6.359822e+09  6.671034e+09  6.825750e+09   \n",
      "17       ...       7.094394e+09  7.495583e+09  8.042348e+09  8.280563e+09   \n",
      "18       ...       9.158885e+10  9.805377e+10  1.039505e+11  1.091950e+11   \n",
      "19       ...       4.580943e+10  4.932546e+10  5.211087e+10  4.991194e+10   \n",
      "20       ...       2.088961e+10  2.262186e+10  2.403463e+10  2.464505e+10   \n",
      "21       ...       8.203865e+09  8.322536e+09  8.129126e+09  7.789714e+09   \n",
      "22       ...       1.572365e+10  1.662442e+10  1.753569e+10  1.703244e+10   \n",
      "23       ...       4.274098e+10  4.641670e+10  5.115121e+10  5.125351e+10   \n",
      "24       ...       1.285312e+09  1.299522e+09  1.341485e+09  1.352206e+09   \n",
      "25       ...       5.932559e+09  6.101393e+09  6.194616e+09  5.867282e+09   \n",
      "26       ...       1.644957e+10  1.720040e+10  1.825796e+10  1.887088e+10   \n",
      "27       ...       1.845080e+12  1.957118e+12  2.056809e+12  2.054215e+12   \n",
      "28       ...       4.522426e+09  4.599352e+09  4.619595e+09  4.433354e+09   \n",
      "29       ...       1.249730e+10  1.251661e+10  1.227383e+10  1.205725e+10   \n",
      "..       ...                ...           ...           ...           ...   \n",
      "234      ...       1.128451e+12  1.200513e+12  1.246733e+12  1.284551e+12   \n",
      "235      ...       5.940000e+08  6.620000e+08  7.560000e+08  8.540000e+08   \n",
      "236      ...       3.591646e+08  3.427468e+08  3.511655e+08  3.550268e+08   \n",
      "237      ...       1.588121e+12  1.716564e+12  1.783227e+12  1.919371e+12   \n",
      "238      ...       1.107337e+12  1.185713e+12  1.248779e+12  1.284295e+12   \n",
      "239      ...       2.033516e+10  2.130193e+10  2.202416e+10  2.105717e+10   \n",
      "240      ...       3.712967e+10  3.962093e+10  4.129998e+10  4.255692e+10   \n",
      "241      ...       6.680034e+11  6.991896e+11  7.037962e+11  6.698319e+11   \n",
      "242      ...       2.980999e+07  3.170309e+07  3.423404e+07  3.271649e+07   \n",
      "243      ...       2.447280e+10  2.654427e+10  2.802189e+10  2.953012e+10   \n",
      "244      ...       1.518174e+10  1.645889e+10  1.789225e+10  1.918963e+10   \n",
      "245      ...       1.392103e+11  1.502079e+11  1.536627e+11  1.309206e+11   \n",
      "246      ...       1.209926e+13  1.319424e+13  1.398552e+13  1.423007e+13   \n",
      "247      ...       3.139363e+10  3.344725e+10  3.584747e+10  3.736865e+10   \n",
      "248      ...       1.479230e+13  1.505540e+13  1.501149e+13  1.459484e+13   \n",
      "249      ...       2.798925e+10  3.076611e+10  3.353506e+10  3.625140e+10   \n",
      "250      ...       6.857344e+08  6.746459e+08  7.200629e+08  7.049483e+08   \n",
      "251      ...       3.606999e+11  3.922741e+11  4.129777e+11  3.997529e+11   \n",
      "252      ...                NaN           NaN           NaN           NaN   \n",
      "253      ...                NaN           NaN           NaN           NaN   \n",
      "254      ...       9.130761e+10  9.781739e+10  1.033556e+11  1.089346e+11   \n",
      "255      ...       5.961693e+08  6.270251e+08  6.674589e+08  6.895706e+08   \n",
      "256      ...       8.016675e+09  7.878227e+09  7.201473e+09  8.709518e+09   \n",
      "257      ...       6.023536e+13  6.282865e+13  6.398692e+13  6.291271e+13   \n",
      "258      ...       6.393881e+08  6.798143e+08  6.866743e+08  6.536571e+08   \n",
      "259      ...       2.672565e+10  2.761787e+10  2.872656e+10  2.991436e+10   \n",
      "260      ...       3.402852e+11  3.585261e+11  3.699668e+11  3.642764e+11   \n",
      "261      ...       1.650894e+10  1.754232e+10  1.863448e+10  1.916651e+10   \n",
      "262      ...       1.440569e+10  1.560892e+10  1.682234e+10  1.837342e+10   \n",
      "263      ...       1.006276e+10  9.695130e+09  7.982103e+09  8.459783e+09   \n",
      "\n",
      "             2010          2011          2012          2013          2014  \\\n",
      "0    2.467704e+09           NaN           NaN           NaN           NaN   \n",
      "1    3.346317e+09  3.185605e+09  3.129538e+09  3.127550e+09           NaN   \n",
      "2    1.593680e+10  1.691113e+10  1.935220e+10  1.973134e+10  1.999032e+10   \n",
      "3    8.247091e+10  8.570262e+10  9.012096e+10  9.626143e+10  1.008863e+11   \n",
      "4    1.192695e+10  1.223109e+10  1.240477e+10  1.254247e+10  1.279331e+10   \n",
      "5    2.103825e+12  2.173896e+12  2.318267e+12  2.385580e+12  2.436659e+12   \n",
      "6    2.860493e+11  3.009462e+11  3.216922e+11  3.355937e+11  3.509313e+11   \n",
      "7    4.616402e+11  5.003555e+11  5.043671e+11  5.189199e+11  5.212737e+11   \n",
      "8    9.260285e+09  9.695518e+09  1.039360e+10  1.073658e+10  1.111236e+10   \n",
      "9             NaN           NaN           NaN           NaN           NaN   \n",
      "10   1.135539e+09  1.115174e+09  1.159999e+09  1.155982e+09  1.211723e+09   \n",
      "11   1.142251e+12  1.169431e+12  1.211913e+12  1.241484e+12  1.272520e+12   \n",
      "12   3.902351e+11  4.011929e+11  4.042312e+11  4.055298e+11  4.069632e+11   \n",
      "13   5.290270e+10  5.293758e+10  5.410221e+10  5.723834e+10  5.838310e+10   \n",
      "14   2.026864e+09  2.111823e+09  2.196705e+09  2.297623e+09  2.404713e+09   \n",
      "15   4.835775e+11  4.922666e+11  4.930476e+11  4.930627e+11  4.994502e+11   \n",
      "16   6.970241e+09  7.176752e+09  7.509970e+09  8.026581e+09  8.551638e+09   \n",
      "17   8.979967e+09  9.565619e+09  1.018286e+10  1.055446e+10  1.098168e+10   \n",
      "18   1.152791e+11  1.227312e+11  1.307350e+11  1.385969e+11  1.469974e+11   \n",
      "19   4.993917e+10  5.073019e+10  5.085046e+10  5.150230e+10  5.230059e+10   \n",
      "20   2.571327e+10  2.625330e+10  2.719545e+10  2.866752e+10  2.995210e+10   \n",
      "21   7.909580e+09  7.958058e+09  8.134513e+09  8.136305e+09  8.219522e+09   \n",
      "22   1.716312e+10  1.731900e+10  1.715738e+10  1.756816e+10  1.775823e+10   \n",
      "23   5.522093e+10  5.828222e+10  5.929132e+10  5.992787e+10  6.096048e+10   \n",
      "24   1.397113e+09  1.426484e+09  1.479846e+09  1.499280e+09  1.560479e+09   \n",
      "25   5.744414e+09  5.552580e+09  5.284138e+09  5.151445e+09           NaN   \n",
      "26   1.964963e+10  2.067222e+10  2.173110e+10  2.320795e+10  2.447524e+10   \n",
      "27   2.208872e+12  2.295245e+12  2.339209e+12  2.409740e+12  2.412231e+12   \n",
      "28   4.445500e+09  4.477890e+09  4.490036e+09  4.490036e+09  4.498133e+09   \n",
      "29   1.237062e+10  1.279491e+10  1.291625e+10  1.268996e+10  1.239301e+10   \n",
      "..            ...           ...           ...           ...           ...   \n",
      "234  1.354033e+12  1.344512e+12  1.381807e+12  1.394728e+12  1.416758e+12   \n",
      "235  9.340000e+08  1.023000e+09  1.088000e+09  1.118000e+09  1.179490e+09   \n",
      "236  3.698161e+08  3.772832e+08  3.793467e+08  3.691972e+08  3.771126e+08   \n",
      "237  2.093719e+12  2.226077e+12  2.351842e+12  2.499225e+12  2.670483e+12   \n",
      "238  1.355385e+12  1.413707e+12  1.465242e+12  1.534734e+12  1.605815e+12   \n",
      "239  2.103761e+10  2.103908e+10  2.132649e+10  2.169752e+10  2.187468e+10   \n",
      "240  4.405093e+10  4.300079e+10  4.459182e+10  4.561743e+10  4.666663e+10   \n",
      "241  7.311681e+11  7.953116e+11  8.122315e+11  8.462844e+11  8.718432e+11   \n",
      "242  3.182352e+07  3.451366e+07  3.457388e+07  3.502271e+07  3.571892e+07   \n",
      "243  3.140791e+10  3.389055e+10  3.563287e+10  3.822090e+10  4.088304e+10   \n",
      "244  2.018180e+10  2.213403e+10  2.311042e+10  2.386630e+10  2.501553e+10   \n",
      "245  1.364193e+11  1.435131e+11  1.438001e+11  1.438001e+11  1.343093e+11   \n",
      "246  1.530029e+13  1.623576e+13  1.706156e+13  1.786328e+13  1.856972e+13   \n",
      "247  4.028468e+10  4.236423e+10  4.386315e+10  4.589732e+10  4.738384e+10   \n",
      "248  1.496437e+13  1.520402e+13  1.554216e+13  1.577367e+13  1.615662e+13   \n",
      "249  3.933277e+10  4.259739e+10  4.609038e+10  4.977761e+10  5.380959e+10   \n",
      "250  6.812260e+08  6.783400e+08  6.877044e+08  6.991892e+08  7.037801e+08   \n",
      "251  3.938015e+11  4.102483e+11  4.333287e+11  4.391487e+11  4.220465e+11   \n",
      "252           NaN           NaN           NaN           NaN           NaN   \n",
      "253           NaN           NaN           NaN           NaN           NaN   \n",
      "254  1.159317e+11  1.231662e+11  1.296292e+11  1.366576e+11  1.448347e+11   \n",
      "255  7.008043e+08  7.093767e+08  7.218245e+08  7.360383e+08  7.529991e+08   \n",
      "256  8.913100e+09  9.611505e+09  1.100864e+10  1.053747e+10  1.042246e+10   \n",
      "257  6.564782e+13  6.770244e+13  6.937886e+13  7.104232e+13  7.291072e+13   \n",
      "258  6.567891e+08  6.947420e+08  6.975356e+08  6.840462e+08  6.922284e+08   \n",
      "259  3.090675e+10  2.624342e+10  2.689160e+10  2.800914e+10           NaN   \n",
      "260  3.753494e+11  3.874074e+11  3.960071e+11  4.047682e+11  4.110369e+11   \n",
      "261  2.052329e+10  2.193213e+10  2.350200e+10  2.550050e+10  2.778776e+10   \n",
      "262  2.026555e+10  2.140358e+10  2.302438e+10  2.420595e+10  2.542227e+10   \n",
      "263  9.422161e+09  1.054391e+10  1.165789e+10  1.218064e+10  1.264939e+10   \n",
      "\n",
      "             2015  \n",
      "0             NaN  \n",
      "1             NaN  \n",
      "2    2.029415e+10  \n",
      "3    1.039106e+11  \n",
      "4    1.312082e+10  \n",
      "5    2.509068e+12  \n",
      "6    3.621003e+11  \n",
      "7             NaN  \n",
      "8    1.144574e+10  \n",
      "9             NaN  \n",
      "10   1.256122e+09  \n",
      "11   1.301251e+12  \n",
      "12   4.104717e+11  \n",
      "13   5.902532e+10  \n",
      "14   2.343733e+09  \n",
      "15   5.063123e+11  \n",
      "16   8.999782e+09  \n",
      "17   1.141871e+10  \n",
      "18   1.566295e+11  \n",
      "19   5.385242e+10  \n",
      "20   3.082866e+10  \n",
      "21   8.319840e+09  \n",
      "22   1.831896e+10  \n",
      "23   5.859052e+10  \n",
      "24   1.590417e+09  \n",
      "25            NaN  \n",
      "26   2.544488e+10  \n",
      "27   2.319423e+12  \n",
      "28   4.542669e+09  \n",
      "29   1.233105e+10  \n",
      "..            ...  \n",
      "234           NaN  \n",
      "235  1.229630e+09  \n",
      "236           NaN  \n",
      "237  2.862660e+12  \n",
      "238  1.653644e+12  \n",
      "239  2.209480e+10  \n",
      "240  4.703997e+10  \n",
      "241  9.065849e+11  \n",
      "242           NaN  \n",
      "243  4.373172e+10  \n",
      "244  2.627705e+10  \n",
      "245  1.210127e+11  \n",
      "246  1.912141e+13  \n",
      "247  4.784927e+10  \n",
      "248  1.654857e+13  \n",
      "249  5.811436e+10  \n",
      "250  7.139983e+08  \n",
      "251  3.979899e+11  \n",
      "252           NaN  \n",
      "253           NaN  \n",
      "254  1.545086e+11  \n",
      "255           NaN  \n",
      "256  1.171414e+10  \n",
      "257  7.470901e+13  \n",
      "258  7.035448e+08  \n",
      "259           NaN  \n",
      "260  4.163117e+11  \n",
      "261  2.970961e+10  \n",
      "262  2.624127e+10  \n",
      "263  1.278517e+10  \n",
      "\n",
      "[264 rows x 60 columns]\n"
     ]
    },
    {
     "data": {
      "text/plain": [
       "'ANSWER'"
      ]
     },
     "execution_count": 16,
     "metadata": {},
     "output_type": "execute_result"
    }
   ],
   "source": [
    "def answer_one():\n",
    "    import pandas as pd\n",
    "    import numpy as np\n",
    "    energy = pd.read_excel(\"Energy Indicators.xls\", skiprows=17, skipfooter=38)\n",
    "    energy = energy[[2,3,4,5]]\n",
    "    energy.columns=['Country','Energy Supply', 'Energy Supply per Capita', '% Renewable']\n",
    "    energy = energy.replace('Republic of Korea', 'South Korea')\n",
    "    energy = energy.replace('United States of America', 'United States')\n",
    "    energy = energy.replace('United Kingdom of Great Britain and Northern Ireland', 'United Kingdom')\n",
    "    energy = energy.replace('China, Hong Kong Special Administrative Region', 'Hong Kong')\n",
    "    energy = energy.replace('...', np.nan)\n",
    "    \n",
    "    #print(energy)\n",
    "    GDP = pd.read_csv('world_bank.csv',skiprows=4)\n",
    "    print(GDP)\n",
    "    ScimEn = pd.read_excel(\"scimagojr-3.xlsx\")\n",
    "    #print(ScimEn)\n",
    "    \n",
    "    return \"ANSWER\"\n",
    "answer_one()"
   ]
  },
  {
   "cell_type": "markdown",
   "metadata": {},
   "source": [
    "### Question 2 (6.6%)\n",
    "The previous question joined three datasets then reduced this to just the top 15 entries. When you joined the datasets, but before you reduced this to the top 15 items, how many entries did you lose?\n",
    "\n",
    "*This function should return a single number.*"
   ]
  },
  {
   "cell_type": "code",
   "execution_count": 1,
   "metadata": {},
   "outputs": [
    {
     "data": {
      "text/html": [
       "<svg width=\"800\" height=\"300\">\n",
       "  <circle cx=\"150\" cy=\"180\" r=\"80\" fill-opacity=\"0.2\" stroke=\"black\" stroke-width=\"2\" fill=\"blue\" />\n",
       "  <circle cx=\"200\" cy=\"100\" r=\"80\" fill-opacity=\"0.2\" stroke=\"black\" stroke-width=\"2\" fill=\"red\" />\n",
       "  <circle cx=\"100\" cy=\"100\" r=\"80\" fill-opacity=\"0.2\" stroke=\"black\" stroke-width=\"2\" fill=\"green\" />\n",
       "  <line x1=\"150\" y1=\"125\" x2=\"300\" y2=\"150\" stroke=\"black\" stroke-width=\"2\" fill=\"black\" stroke-dasharray=\"5,3\"/>\n",
       "  <text  x=\"300\" y=\"165\" font-family=\"Verdana\" font-size=\"35\">Everything but this!</text>\n",
       "</svg>"
      ],
      "text/plain": [
       "<IPython.core.display.HTML object>"
      ]
     },
     "metadata": {},
     "output_type": "display_data"
    }
   ],
   "source": [
    "%%HTML\n",
    "<svg width=\"800\" height=\"300\">\n",
    "  <circle cx=\"150\" cy=\"180\" r=\"80\" fill-opacity=\"0.2\" stroke=\"black\" stroke-width=\"2\" fill=\"blue\" />\n",
    "  <circle cx=\"200\" cy=\"100\" r=\"80\" fill-opacity=\"0.2\" stroke=\"black\" stroke-width=\"2\" fill=\"red\" />\n",
    "  <circle cx=\"100\" cy=\"100\" r=\"80\" fill-opacity=\"0.2\" stroke=\"black\" stroke-width=\"2\" fill=\"green\" />\n",
    "  <line x1=\"150\" y1=\"125\" x2=\"300\" y2=\"150\" stroke=\"black\" stroke-width=\"2\" fill=\"black\" stroke-dasharray=\"5,3\"/>\n",
    "  <text  x=\"300\" y=\"165\" font-family=\"Verdana\" font-size=\"35\">Everything but this!</text>\n",
    "</svg>"
   ]
  },
  {
   "cell_type": "code",
   "execution_count": null,
   "metadata": {
    "collapsed": true,
    "umich_part_id": "010",
    "umich_partlist_id": "003"
   },
   "outputs": [],
   "source": [
    "def answer_two():\n",
    "    return \"ANSWER\""
   ]
  },
  {
   "cell_type": "markdown",
   "metadata": {},
   "source": [
    "## Answer the following questions in the context of only the top 15 countries by Scimagojr Rank (aka the DataFrame returned by `answer_one()`)"
   ]
  },
  {
   "cell_type": "markdown",
   "metadata": {},
   "source": [
    "### Question 3 (6.6%)\n",
    "What is the average GDP over the last 10 years for each country? (exclude missing values from this calculation.)\n",
    "\n",
    "*This function should return a Series named `avgGDP` with 15 countries and their average GDP sorted in descending order.*"
   ]
  },
  {
   "cell_type": "code",
   "execution_count": null,
   "metadata": {
    "collapsed": true,
    "scrolled": true,
    "umich_part_id": "011",
    "umich_partlist_id": "003"
   },
   "outputs": [],
   "source": [
    "def answer_three():\n",
    "    Top15 = answer_one()\n",
    "    return \"ANSWER\""
   ]
  },
  {
   "cell_type": "markdown",
   "metadata": {},
   "source": [
    "### Question 4 (6.6%)\n",
    "By how much had the GDP changed over the 10 year span for the country with the 6th largest average GDP?\n",
    "\n",
    "*This function should return a single number.*"
   ]
  },
  {
   "cell_type": "code",
   "execution_count": null,
   "metadata": {
    "collapsed": true,
    "scrolled": true,
    "umich_part_id": "012",
    "umich_partlist_id": "003"
   },
   "outputs": [],
   "source": [
    "def answer_four():\n",
    "    Top15 = answer_one()\n",
    "    return \"ANSWER\""
   ]
  },
  {
   "cell_type": "markdown",
   "metadata": {},
   "source": [
    "### Question 5 (6.6%)\n",
    "What is the mean `Energy Supply per Capita`?\n",
    "\n",
    "*This function should return a single number.*"
   ]
  },
  {
   "cell_type": "code",
   "execution_count": null,
   "metadata": {
    "collapsed": true,
    "umich_part_id": "013",
    "umich_partlist_id": "003"
   },
   "outputs": [],
   "source": [
    "def answer_five():\n",
    "    Top15 = answer_one()\n",
    "    return \"ANSWER\""
   ]
  },
  {
   "cell_type": "markdown",
   "metadata": {},
   "source": [
    "### Question 6 (6.6%)\n",
    "What country has the maximum % Renewable and what is the percentage?\n",
    "\n",
    "*This function should return a tuple with the name of the country and the percentage.*"
   ]
  },
  {
   "cell_type": "code",
   "execution_count": null,
   "metadata": {
    "collapsed": true,
    "umich_part_id": "014",
    "umich_partlist_id": "003"
   },
   "outputs": [],
   "source": [
    "def answer_six():\n",
    "    Top15 = answer_one()\n",
    "    return \"ANSWER\""
   ]
  },
  {
   "cell_type": "markdown",
   "metadata": {},
   "source": [
    "### Question 7 (6.6%)\n",
    "Create a new column that is the ratio of Self-Citations to Total Citations. \n",
    "What is the maximum value for this new column, and what country has the highest ratio?\n",
    "\n",
    "*This function should return a tuple with the name of the country and the ratio.*"
   ]
  },
  {
   "cell_type": "code",
   "execution_count": null,
   "metadata": {
    "collapsed": true,
    "umich_part_id": "015",
    "umich_partlist_id": "003"
   },
   "outputs": [],
   "source": [
    "def answer_seven():\n",
    "    Top15 = answer_one()\n",
    "    return \"ANSWER\""
   ]
  },
  {
   "cell_type": "markdown",
   "metadata": {},
   "source": [
    "### Question 8 (6.6%)\n",
    "\n",
    "Create a column that estimates the population using Energy Supply and Energy Supply per capita. \n",
    "What is the third most populous country according to this estimate?\n",
    "\n",
    "*This function should return a single string value.*"
   ]
  },
  {
   "cell_type": "code",
   "execution_count": null,
   "metadata": {
    "collapsed": true,
    "umich_part_id": "016",
    "umich_partlist_id": "003"
   },
   "outputs": [],
   "source": [
    "def answer_eight():\n",
    "    Top15 = answer_one()\n",
    "    return \"ANSWER\""
   ]
  },
  {
   "cell_type": "markdown",
   "metadata": {},
   "source": [
    "### Question 9 (6.6%)\n",
    "Create a column that estimates the number of citable documents per person. \n",
    "What is the correlation between the number of citable documents per capita and the energy supply per capita? Use the `.corr()` method, (Pearson's correlation).\n",
    "\n",
    "*This function should return a single number.*\n",
    "\n",
    "*(Optional: Use the built-in function `plot9()` to visualize the relationship between Energy Supply per Capita vs. Citable docs per Capita)*"
   ]
  },
  {
   "cell_type": "code",
   "execution_count": null,
   "metadata": {
    "collapsed": true,
    "umich_part_id": "017",
    "umich_partlist_id": "003"
   },
   "outputs": [],
   "source": [
    "def answer_nine():\n",
    "    Top15 = answer_one()\n",
    "    return \"ANSWER\""
   ]
  },
  {
   "cell_type": "code",
   "execution_count": null,
   "metadata": {
    "collapsed": true
   },
   "outputs": [],
   "source": [
    "def plot9():\n",
    "    import matplotlib as plt\n",
    "    %matplotlib inline\n",
    "    \n",
    "    Top15 = answer_one()\n",
    "    Top15['PopEst'] = Top15['Energy Supply'] / Top15['Energy Supply per Capita']\n",
    "    Top15['Citable docs per Capita'] = Top15['Citable documents'] / Top15['PopEst']\n",
    "    Top15.plot(x='Citable docs per Capita', y='Energy Supply per Capita', kind='scatter', xlim=[0, 0.0006])"
   ]
  },
  {
   "cell_type": "code",
   "execution_count": null,
   "metadata": {
    "collapsed": true
   },
   "outputs": [],
   "source": [
    "#plot9() # Be sure to comment out plot9() before submitting the assignment!"
   ]
  },
  {
   "cell_type": "markdown",
   "metadata": {},
   "source": [
    "### Question 10 (6.6%)\n",
    "Create a new column with a 1 if the country's % Renewable value is at or above the median for all countries in the top 15, and a 0 if the country's % Renewable value is below the median.\n",
    "\n",
    "*This function should return a series named `HighRenew` whose index is the country name sorted in ascending order of rank.*"
   ]
  },
  {
   "cell_type": "code",
   "execution_count": null,
   "metadata": {
    "collapsed": true,
    "umich_part_id": "018",
    "umich_partlist_id": "003"
   },
   "outputs": [],
   "source": [
    "def answer_ten():\n",
    "    Top15 = answer_one()\n",
    "    return \"ANSWER\""
   ]
  },
  {
   "cell_type": "markdown",
   "metadata": {},
   "source": [
    "### Question 11 (6.6%)\n",
    "Use the following dictionary to group the Countries by Continent, then create a dateframe that displays the sample size (the number of countries in each continent bin), and the sum, mean, and std deviation for the estimated population of each country.\n",
    "\n",
    "```python\n",
    "ContinentDict  = {'China':'Asia', \n",
    "                  'United States':'North America', \n",
    "                  'Japan':'Asia', \n",
    "                  'United Kingdom':'Europe', \n",
    "                  'Russian Federation':'Europe', \n",
    "                  'Canada':'North America', \n",
    "                  'Germany':'Europe', \n",
    "                  'India':'Asia',\n",
    "                  'France':'Europe', \n",
    "                  'South Korea':'Asia', \n",
    "                  'Italy':'Europe', \n",
    "                  'Spain':'Europe', \n",
    "                  'Iran':'Asia',\n",
    "                  'Australia':'Australia', \n",
    "                  'Brazil':'South America'}\n",
    "```\n",
    "\n",
    "*This function should return a DataFrame with index named Continent `['Asia', 'Australia', 'Europe', 'North America', 'South America']` and columns `['size', 'sum', 'mean', 'std']`*"
   ]
  },
  {
   "cell_type": "code",
   "execution_count": null,
   "metadata": {
    "collapsed": true,
    "umich_part_id": "019",
    "umich_partlist_id": "003"
   },
   "outputs": [],
   "source": [
    "def answer_eleven():\n",
    "    Top15 = answer_one()\n",
    "    return \"ANSWER\""
   ]
  },
  {
   "cell_type": "markdown",
   "metadata": {},
   "source": [
    "### Question 12 (6.6%)\n",
    "Cut % Renewable into 5 bins. Group Top15 by the Continent, as well as these new % Renewable bins. How many countries are in each of these groups?\n",
    "\n",
    "*This function should return a __Series__ with a MultiIndex of `Continent`, then the bins for `% Renewable`. Do not include groups with no countries.*"
   ]
  },
  {
   "cell_type": "code",
   "execution_count": null,
   "metadata": {
    "collapsed": true,
    "scrolled": true
   },
   "outputs": [],
   "source": [
    "def answer_twelve():\n",
    "    Top15 = answer_one()\n",
    "    return \"ANSWER\""
   ]
  },
  {
   "cell_type": "markdown",
   "metadata": {},
   "source": [
    "### Question 13 (6.6%)\n",
    "Convert the Population Estimate series to a string with thousands separator (using commas). Do not round the results.\n",
    "\n",
    "e.g. 317615384.61538464 -> 317,615,384.61538464\n",
    "\n",
    "*This function should return a Series `PopEst` whose index is the country name and whose values are the population estimate string.*"
   ]
  },
  {
   "cell_type": "code",
   "execution_count": null,
   "metadata": {
    "collapsed": true,
    "scrolled": true,
    "umich_part_id": "020",
    "umich_partlist_id": "003"
   },
   "outputs": [],
   "source": [
    "def answer_thirteen():\n",
    "    Top15 = answer_one()\n",
    "    return \"ANSWER\""
   ]
  },
  {
   "cell_type": "markdown",
   "metadata": {},
   "source": [
    "### Optional\n",
    "\n",
    "Use the built in function `plot_optional()` to see an example visualization."
   ]
  },
  {
   "cell_type": "code",
   "execution_count": null,
   "metadata": {
    "collapsed": true,
    "scrolled": true
   },
   "outputs": [],
   "source": [
    "def plot_optional():\n",
    "    import matplotlib as plt\n",
    "    %matplotlib inline\n",
    "    Top15 = answer_one()\n",
    "    ax = Top15.plot(x='Rank', y='% Renewable', kind='scatter', \n",
    "                    c=['#e41a1c','#377eb8','#e41a1c','#4daf4a','#4daf4a','#377eb8','#4daf4a','#e41a1c',\n",
    "                       '#4daf4a','#e41a1c','#4daf4a','#4daf4a','#e41a1c','#dede00','#ff7f00'], \n",
    "                    xticks=range(1,16), s=6*Top15['2014']/10**10, alpha=.75, figsize=[16,6]);\n",
    "\n",
    "    for i, txt in enumerate(Top15.index):\n",
    "        ax.annotate(txt, [Top15['Rank'][i], Top15['% Renewable'][i]], ha='center')\n",
    "\n",
    "    print(\"This is an example of a visualization that can be created to help understand the data. \\\n",
    "This is a bubble chart showing % Renewable vs. Rank. The size of the bubble corresponds to the countries' \\\n",
    "2014 GDP, and the color corresponds to the continent.\")"
   ]
  },
  {
   "cell_type": "code",
   "execution_count": null,
   "metadata": {
    "collapsed": true
   },
   "outputs": [],
   "source": [
    "#plot_optional() # Be sure to comment out plot_optional() before submitting the assignment!"
   ]
  }
 ],
 "metadata": {
  "anaconda-cloud": {},
  "coursera": {
   "course_slug": "python-data-analysis",
   "graded_item_id": "zAr06",
   "launcher_item_id": "KSSjT",
   "part_id": "SL3fU"
  },
  "kernelspec": {
   "display_name": "Python 3",
   "language": "python",
   "name": "python3"
  },
  "language_info": {
   "codemirror_mode": {
    "name": "ipython",
    "version": 3
   },
   "file_extension": ".py",
   "mimetype": "text/x-python",
   "name": "python",
   "nbconvert_exporter": "python",
   "pygments_lexer": "ipython3",
   "version": "3.6.2"
  },
  "umich": {
   "id": "Assignment 3",
   "version": "1.5"
  }
 },
 "nbformat": 4,
 "nbformat_minor": 1
}
